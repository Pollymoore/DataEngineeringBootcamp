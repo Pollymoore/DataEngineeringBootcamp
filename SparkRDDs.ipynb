{
  "nbformat": 4,
  "nbformat_minor": 0,
  "metadata": {
    "colab": {
      "name": "SparkRDDs.ipynb",
      "provenance": [],
      "collapsed_sections": [],
      "authorship_tag": "ABX9TyPMi3ASUpprXRMw8IrKigfA",
      "include_colab_link": true
    },
    "kernelspec": {
      "name": "python3",
      "display_name": "Python 3"
    },
    "language_info": {
      "name": "python"
    }
  },
  "cells": [
    {
      "cell_type": "markdown",
      "metadata": {
        "id": "view-in-github",
        "colab_type": "text"
      },
      "source": [
        "<a href=\"https://colab.research.google.com/github/Pollymoore/DataEngineeringBootcamp/blob/main/SparkRDDs.ipynb\" target=\"_parent\"><img src=\"https://colab.research.google.com/assets/colab-badge.svg\" alt=\"Open In Colab\"/></a>"
      ]
    },
    {
      "cell_type": "code",
      "metadata": {
        "colab": {
          "base_uri": "https://localhost:8080/"
        },
        "id": "aGPq1fxfxsd0",
        "outputId": "fe645582-df8b-4e18-cae4-26ae9226583f"
      },
      "source": [
        "pip install pyspark"
      ],
      "execution_count": null,
      "outputs": [
        {
          "output_type": "stream",
          "name": "stdout",
          "text": [
            "Collecting pyspark\n",
            "  Downloading pyspark-3.1.2.tar.gz (212.4 MB)\n",
            "\u001b[K     |████████████████████████████████| 212.4 MB 68 kB/s \n",
            "\u001b[?25hCollecting py4j==0.10.9\n",
            "  Downloading py4j-0.10.9-py2.py3-none-any.whl (198 kB)\n",
            "\u001b[K     |████████████████████████████████| 198 kB 48.4 MB/s \n",
            "\u001b[?25hBuilding wheels for collected packages: pyspark\n",
            "  Building wheel for pyspark (setup.py) ... \u001b[?25l\u001b[?25hdone\n",
            "  Created wheel for pyspark: filename=pyspark-3.1.2-py2.py3-none-any.whl size=212880768 sha256=8f7052a92247e0e9ee1071c22ec839873cd7df399beb1f7b061b8e2bf3aebcd3\n",
            "  Stored in directory: /root/.cache/pip/wheels/a5/0a/c1/9561f6fecb759579a7d863dcd846daaa95f598744e71b02c77\n",
            "Successfully built pyspark\n",
            "Installing collected packages: py4j, pyspark\n",
            "Successfully installed py4j-0.10.9 pyspark-3.1.2\n"
          ]
        }
      ]
    },
    {
      "cell_type": "code",
      "metadata": {
        "colab": {
          "base_uri": "https://localhost:8080/",
          "height": 238
        },
        "id": "d7ZZIl1RyWvy",
        "outputId": "a9de772d-b59d-41b0-9c42-eef4dc76e363"
      },
      "source": [
        "#import modules\n",
        "from pyspark import SparkContext\n",
        "sc =SparkContext()\n"
      ],
      "execution_count": 84,
      "outputs": [
        {
          "output_type": "error",
          "ename": "ValueError",
          "evalue": "ignored",
          "traceback": [
            "\u001b[0;31m---------------------------------------------------------------------------\u001b[0m",
            "\u001b[0;31mValueError\u001b[0m                                Traceback (most recent call last)",
            "\u001b[0;32m<ipython-input-84-de9bd63d3f14>\u001b[0m in \u001b[0;36m<module>\u001b[0;34m()\u001b[0m\n\u001b[1;32m      1\u001b[0m \u001b[0;31m#import modules\u001b[0m\u001b[0;34m\u001b[0m\u001b[0;34m\u001b[0m\u001b[0;34m\u001b[0m\u001b[0m\n\u001b[1;32m      2\u001b[0m \u001b[0;32mfrom\u001b[0m \u001b[0mpyspark\u001b[0m \u001b[0;32mimport\u001b[0m \u001b[0mSparkContext\u001b[0m\u001b[0;34m\u001b[0m\u001b[0;34m\u001b[0m\u001b[0m\n\u001b[0;32m----> 3\u001b[0;31m \u001b[0msc\u001b[0m \u001b[0;34m=\u001b[0m\u001b[0mSparkContext\u001b[0m\u001b[0;34m(\u001b[0m\u001b[0;34m)\u001b[0m\u001b[0;34m\u001b[0m\u001b[0;34m\u001b[0m\u001b[0m\n\u001b[0m\u001b[1;32m      4\u001b[0m \u001b[0;34m\u001b[0m\u001b[0m\n",
            "\u001b[0;32m/usr/local/lib/python3.7/dist-packages/pyspark/context.py\u001b[0m in \u001b[0;36m__init__\u001b[0;34m(self, master, appName, sparkHome, pyFiles, environment, batchSize, serializer, conf, gateway, jsc, profiler_cls)\u001b[0m\n\u001b[1;32m    142\u001b[0m                 \" is not allowed as it is a security risk.\")\n\u001b[1;32m    143\u001b[0m \u001b[0;34m\u001b[0m\u001b[0m\n\u001b[0;32m--> 144\u001b[0;31m         \u001b[0mSparkContext\u001b[0m\u001b[0;34m.\u001b[0m\u001b[0m_ensure_initialized\u001b[0m\u001b[0;34m(\u001b[0m\u001b[0mself\u001b[0m\u001b[0;34m,\u001b[0m \u001b[0mgateway\u001b[0m\u001b[0;34m=\u001b[0m\u001b[0mgateway\u001b[0m\u001b[0;34m,\u001b[0m \u001b[0mconf\u001b[0m\u001b[0;34m=\u001b[0m\u001b[0mconf\u001b[0m\u001b[0;34m)\u001b[0m\u001b[0;34m\u001b[0m\u001b[0;34m\u001b[0m\u001b[0m\n\u001b[0m\u001b[1;32m    145\u001b[0m         \u001b[0;32mtry\u001b[0m\u001b[0;34m:\u001b[0m\u001b[0;34m\u001b[0m\u001b[0;34m\u001b[0m\u001b[0m\n\u001b[1;32m    146\u001b[0m             self._do_init(master, appName, sparkHome, pyFiles, environment, batchSize, serializer,\n",
            "\u001b[0;32m/usr/local/lib/python3.7/dist-packages/pyspark/context.py\u001b[0m in \u001b[0;36m_ensure_initialized\u001b[0;34m(cls, instance, gateway, conf)\u001b[0m\n\u001b[1;32m    345\u001b[0m                         \u001b[0;34m\" created by %s at %s:%s \"\u001b[0m\u001b[0;34m\u001b[0m\u001b[0;34m\u001b[0m\u001b[0m\n\u001b[1;32m    346\u001b[0m                         % (currentAppName, currentMaster,\n\u001b[0;32m--> 347\u001b[0;31m                             callsite.function, callsite.file, callsite.linenum))\n\u001b[0m\u001b[1;32m    348\u001b[0m                 \u001b[0;32melse\u001b[0m\u001b[0;34m:\u001b[0m\u001b[0;34m\u001b[0m\u001b[0;34m\u001b[0m\u001b[0m\n\u001b[1;32m    349\u001b[0m                     \u001b[0mSparkContext\u001b[0m\u001b[0;34m.\u001b[0m\u001b[0m_active_spark_context\u001b[0m \u001b[0;34m=\u001b[0m \u001b[0minstance\u001b[0m\u001b[0;34m\u001b[0m\u001b[0;34m\u001b[0m\u001b[0m\n",
            "\u001b[0;31mValueError\u001b[0m: Cannot run multiple SparkContexts at once; existing SparkContext(app=pyspark-shell, master=local[*]) created by __init__ at <ipython-input-2-eb864ff61741>:2 "
          ]
        }
      ]
    },
    {
      "cell_type": "code",
      "metadata": {
        "id": "fnvXbzOidbFd"
      },
      "source": [
        "#Creating my RDD- we're creating a list and making this parallelised, using the parallelize method - otherwise this would simply be a list\n",
        "myRDD = sc.parallelize ([('Polly', 'Data Engineering'), ('Roger', 'Modelling'), ('Tom', 'Data Science'), ('Sam' 'API')])"
      ],
      "execution_count": 85,
      "outputs": []
    },
    {
      "cell_type": "code",
      "metadata": {
        "colab": {
          "base_uri": "https://localhost:8080/"
        },
        "id": "KXYsdSy3ocYZ",
        "outputId": "90ffd17a-7588-4136-fba8-a5e80996ec16"
      },
      "source": [
        "#Count the number of items in the RDD\n",
        "myRDD.count()"
      ],
      "execution_count": 86,
      "outputs": [
        {
          "output_type": "execute_result",
          "data": {
            "text/plain": [
              "4"
            ]
          },
          "metadata": {},
          "execution_count": 86
        }
      ]
    },
    {
      "cell_type": "code",
      "metadata": {
        "colab": {
          "base_uri": "https://localhost:8080/"
        },
        "id": "1VQCkmmVgaiT",
        "outputId": "0c455601-6e0b-42ff-f65d-f77435766e50"
      },
      "source": [
        "#Read a set number of number of items in the RDD\n",
        "myRDD.take(3)"
      ],
      "execution_count": 87,
      "outputs": [
        {
          "output_type": "execute_result",
          "data": {
            "text/plain": [
              "[('Polly', 'Data Engineering'),\n",
              " ('Roger', 'Modelling'),\n",
              " ('Tom', 'Data Science')]"
            ]
          },
          "metadata": {},
          "execution_count": 87
        }
      ]
    },
    {
      "cell_type": "code",
      "metadata": {
        "id": "Jm6wuBd5gBfk"
      },
      "source": [
        "#Can also load data from external sources\n",
        "myRDDtxtFile = sc.textFile('ManicStreetPreachersLyrics.txt')"
      ],
      "execution_count": 94,
      "outputs": []
    },
    {
      "cell_type": "code",
      "metadata": {
        "colab": {
          "base_uri": "https://localhost:8080/"
        },
        "id": "OgDHge8FijGQ",
        "outputId": "74a1e050-3942-46b7-81cd-1d06230861b2"
      },
      "source": [
        "#Count the number of items in the RDD text file\n",
        "myRDDtxtFile.count()"
      ],
      "execution_count": 89,
      "outputs": [
        {
          "output_type": "execute_result",
          "data": {
            "text/plain": [
              "14614"
            ]
          },
          "metadata": {},
          "execution_count": 89
        }
      ]
    },
    {
      "cell_type": "code",
      "metadata": {
        "colab": {
          "base_uri": "https://localhost:8080/"
        },
        "id": "TAns9hV8ixgn",
        "outputId": "6922eeaf-d02f-4b95-de65-2881f3a3cc8f"
      },
      "source": [
        "#Read a set number of number of items in the RDD\n",
        "myRDDtxtFile.take(3)"
      ],
      "execution_count": 90,
      "outputs": [
        {
          "output_type": "execute_result",
          "data": {
            "text/plain": [
              "['\"New Art Riot\"', '', 'Vintage aromas and vintage ideals']"
            ]
          },
          "metadata": {},
          "execution_count": 90
        }
      ]
    },
    {
      "cell_type": "code",
      "metadata": {
        "colab": {
          "base_uri": "https://localhost:8080/"
        },
        "id": "2DLf5P0DjCtM",
        "outputId": "5918f4fb-0cb2-4498-af47-c120ea6694d6"
      },
      "source": [
        "#Filter an RDD\n",
        "Polly = myRDD.filter(lambda x: 'Polly'  in x)\n",
        "PollyFiltered = Polly.collect()\n",
        "print(PollyFiltered)"
      ],
      "execution_count": 119,
      "outputs": [
        {
          "output_type": "stream",
          "name": "stdout",
          "text": [
            "[('Roger', 'Modelling'), ('Tom', 'Data Science'), 'SamAPI']\n"
          ]
        }
      ]
    },
    {
      "cell_type": "code",
      "metadata": {
        "id": "QDcvzE8bi1g9"
      },
      "source": [
        "##transformation - going to split our RDD. Need to create a function:\n",
        "\n",
        "def Func (para):\n",
        "    para = para.split()\n",
        "    return para\n",
        "NewRDD=myRDDtxtFile.map(Func)"
      ],
      "execution_count": 105,
      "outputs": []
    },
    {
      "cell_type": "code",
      "metadata": {
        "colab": {
          "base_uri": "https://localhost:8080/"
        },
        "id": "LH3EFHsejKZ-",
        "outputId": "796b9e8c-9717-4347-9a27-9a9e5869a694"
      },
      "source": [
        "NewRDD.take(10)"
      ],
      "execution_count": 114,
      "outputs": [
        {
          "output_type": "execute_result",
          "data": {
            "text/plain": [
              "[['\"Motorcycle', 'Emptiness\"'],\n",
              " [],\n",
              " ['Culture', 'sucks', 'down', 'words'],\n",
              " ['Itemise', 'loathing', 'and', 'feed', 'yourself', 'smiles'],\n",
              " ['Organise', 'your', 'safe', 'tribal', 'war'],\n",
              " ['Hurt', 'maim', 'kill', 'and', 'enslave', 'the', 'ghetto'],\n",
              " [],\n",
              " ['Each', 'day', 'living', 'out', 'a', 'lie'],\n",
              " ['Life', 'sold', 'cheaply', 'forever,', 'ever,', 'ever'],\n",
              " []]"
            ]
          },
          "metadata": {},
          "execution_count": 114
        }
      ]
    },
    {
      "cell_type": "code",
      "metadata": {
        "id": "39o74uZLrn54"
      },
      "source": [
        "#Transform dataset into a new RDD so we can see each word in a list\n",
        "RDDFlat= myRDDtxtFile.flatMap(Func)"
      ],
      "execution_count": 117,
      "outputs": []
    },
    {
      "cell_type": "code",
      "metadata": {
        "colab": {
          "base_uri": "https://localhost:8080/"
        },
        "id": "nRhUFwU-r6YJ",
        "outputId": "09b4df3d-3e52-41c5-d33b-5ae1e819c391"
      },
      "source": [
        "RDDFlat.take(100)"
      ],
      "execution_count": 118,
      "outputs": [
        {
          "output_type": "execute_result",
          "data": {
            "text/plain": [
              "['\"Motorcycle',\n",
              " 'Emptiness\"',\n",
              " 'Culture',\n",
              " 'sucks',\n",
              " 'down',\n",
              " 'words',\n",
              " 'Itemise',\n",
              " 'loathing',\n",
              " 'and',\n",
              " 'feed',\n",
              " 'yourself',\n",
              " 'smiles',\n",
              " 'Organise',\n",
              " 'your',\n",
              " 'safe',\n",
              " 'tribal',\n",
              " 'war',\n",
              " 'Hurt',\n",
              " 'maim',\n",
              " 'kill',\n",
              " 'and',\n",
              " 'enslave',\n",
              " 'the',\n",
              " 'ghetto',\n",
              " 'Each',\n",
              " 'day',\n",
              " 'living',\n",
              " 'out',\n",
              " 'a',\n",
              " 'lie',\n",
              " 'Life',\n",
              " 'sold',\n",
              " 'cheaply',\n",
              " 'forever,',\n",
              " 'ever,',\n",
              " 'ever',\n",
              " 'Under',\n",
              " 'neon',\n",
              " 'loneliness',\n",
              " 'motorcycle',\n",
              " 'emptiness',\n",
              " 'Under',\n",
              " 'neon',\n",
              " 'loneliness',\n",
              " 'motorcycle',\n",
              " 'emptiness',\n",
              " 'Life',\n",
              " 'lies',\n",
              " 'a',\n",
              " 'slow',\n",
              " 'suicide',\n",
              " 'Orthodox',\n",
              " 'dreams',\n",
              " 'and',\n",
              " 'symbolic',\n",
              " 'myths',\n",
              " 'From',\n",
              " 'feudal',\n",
              " 'serf',\n",
              " 'to',\n",
              " 'spender',\n",
              " 'This',\n",
              " 'wonderful',\n",
              " 'world',\n",
              " 'of',\n",
              " 'purchase',\n",
              " 'power',\n",
              " 'Just',\n",
              " 'like',\n",
              " 'lungs',\n",
              " 'sucking',\n",
              " 'on',\n",
              " 'air',\n",
              " 'Survivals',\n",
              " 'natural',\n",
              " 'as',\n",
              " 'sorrow,',\n",
              " 'sorrow,',\n",
              " 'sorrow',\n",
              " 'Under',\n",
              " 'neon',\n",
              " 'loneliness',\n",
              " 'motorcycle',\n",
              " 'emptiness',\n",
              " 'Under',\n",
              " 'neon',\n",
              " 'loneliness',\n",
              " 'motorcycle',\n",
              " 'emptiness',\n",
              " 'All',\n",
              " 'we',\n",
              " 'want',\n",
              " 'from',\n",
              " 'you',\n",
              " 'are',\n",
              " 'the',\n",
              " 'kicks',\n",
              " \"you've\",\n",
              " 'given',\n",
              " 'us']"
            ]
          },
          "metadata": {},
          "execution_count": 118
        }
      ]
    },
    {
      "cell_type": "markdown",
      "metadata": {
        "id": "dfnyyIeAh7eY"
      },
      "source": [
        "# Spark SQL"
      ]
    },
    {
      "cell_type": "code",
      "metadata": {
        "colab": {
          "base_uri": "https://localhost:8080/"
        },
        "id": "_4U_5KhyvoEx",
        "outputId": "8d186bec-5d09-4d57-dc08-906ac67cd7ff"
      },
      "source": [
        "#import SQL Modules\n",
        "from pyspark.sql import SQLContext\n",
        "sqlContext = SQLContext(sc)\n",
        "sqlContext "
      ],
      "execution_count": 125,
      "outputs": [
        {
          "output_type": "execute_result",
          "data": {
            "text/plain": [
              "<pyspark.sql.context.SQLContext at 0x7f53348c6bd0>"
            ]
          },
          "metadata": {},
          "execution_count": 125
        }
      ]
    },
    {
      "cell_type": "code",
      "metadata": {
        "colab": {
          "base_uri": "https://localhost:8080/"
        },
        "id": "ufjJbjb2zI8W",
        "outputId": "c7f4ca9e-5235-47c3-ea98-a616a4575fd6"
      },
      "source": [
        "#import a new tab file into an RDD and add this into memory\n",
        "PLcsv = \"PremierLeagueScorers.csv\"\n",
        "PLRawRDD = sc.textFile(PLcsv).cache()\n",
        "PLRawRDD.take(1) \n"
      ],
      "execution_count": 196,
      "outputs": [
        {
          "output_type": "execute_result",
          "data": {
            "text/plain": [
              "['\"Score Home,Score Away,HomeTeam,AwayTeam\"']"
            ]
          },
          "metadata": {},
          "execution_count": 196
        }
      ]
    },
    {
      "cell_type": "code",
      "metadata": {
        "colab": {
          "base_uri": "https://localhost:8080/"
        },
        "id": "fC9bI6Xo0_QF",
        "outputId": "0d8f80ec-1878-4ad5-c970-420cc136708a"
      },
      "source": [
        "\n",
        "#Spltting our data by columns (tabs)\n",
        "MyRDDcsv = PLRawRDD.map(lambda row: row.split(\",\"))\n",
        "print(MyRDDcsv.take(100))\n",
        "print(type(MyRDDcsv))"
      ],
      "execution_count": 200,
      "outputs": [
        {
          "output_type": "stream",
          "name": "stdout",
          "text": [
            "[['\"Score Home', 'Score Away', 'HomeTeam', 'AwayTeam\"'], ['\"4', '0', 'Man United', 'Leicester\"'], ['\"0', '2', 'Bournemouth', 'Cardiff\"'], ['\"4', '0', 'Fulham', 'Crystal Palace\"'], ['\"2', '3', 'Huddersfield', 'Chelsea\"'], ['\"1', '2', 'Newcastle', 'Tottenham\"'], ['\"1', '2', 'Watford', 'Brighton\"'], ['\"4', '4', 'Wolves', 'Everton\"'], ['\"0', '3', 'Arsenal', 'Man City\"'], ['\"2', '2', 'Liverpool', 'West Ham\"'], ['\"1', '2', 'Southampton', 'Burnley\"'], ['\"1', '3', 'Cardiff', 'Newcastle\"'], ['\"3', '0', 'Chelsea', 'Arsenal\"'], ['\"2', '4', 'Everton', 'Southampton\"'], ['\"4', '0', 'Leicester', 'Wolves\"'], ['\"4', '3', 'Tottenham', 'Fulham\"'], ['\"1', '1', 'West Ham', 'Bournemouth\"'], ['\"3', '1', 'Brighton', 'Man United\"'], ['\"0', '1', 'Burnley', 'Watford\"'], ['\"2', '3', 'Man City', 'Huddersfield\"'], ['\"1', '0', 'Crystal Palace', 'Liverpool\"'], ['\"2', '1', 'Arsenal', 'West Ham\"'], ['\"1', '4', 'Bournemouth', 'Everton\"'], ['\"3', '4', 'Huddersfield', 'Cardiff\"'], ['\"1', '0', 'Liverpool', 'Brighton\"'], ['\"0', '4', 'Southampton', 'Leicester\"'], ['\"0', '0', 'Wolves', 'Man City\"'], ['\"2', '3', 'Fulham', 'Burnley\"'], ['\"2', '3', 'Newcastle', 'Chelsea\"'], ['\"4', '4', 'Watford', 'Crystal Palace\"'], ['\"3', '3', 'Man United', 'Tottenham\"'], ['\"2', '3', 'Brighton', 'Fulham\"'], ['\"0', '1', 'Chelsea', 'Bournemouth\"'], ['\"1', '4', 'Crystal Palace', 'Southampton\"'], ['\"0', '0', 'Everton', 'Huddersfield\"'], ['\"2', '2', 'Leicester', 'Liverpool\"'], ['\"0', '2', 'Man City', 'Newcastle\"'], ['\"1', '3', 'West Ham', 'Wolves\"'], ['\"4', '2', 'Burnley', 'Man United\"'], ['\"1', '3', 'Cardiff', 'Arsenal\"'], ['\"2', '0', 'Watford', 'Tottenham\"'], ['\"2', '0', 'Bournemouth', 'Leicester\"'], ['\"2', '2', 'Chelsea', 'Cardiff\"'], ['\"0', '1', 'Huddersfield', 'Crystal Palace\"'], ['\"2', '4', 'Man City', 'Fulham\"'], ['\"3', '3', 'Newcastle', 'Arsenal\"'], ['\"3', '4', 'Tottenham', 'Liverpool\"'], ['\"4', '3', 'Watford', 'Man United\"'], ['\"3', '1', 'Everton', 'West Ham\"'], ['\"4', '0', 'Wolves', 'Burnley\"'], ['\"4', '2', 'Southampton', 'Brighton\"'], ['\"0', '4', 'Brighton', 'Tottenham\"'], ['\"4', '4', 'Burnley', 'Bournemouth\"'], ['\"3', '2', 'Cardiff', 'Man City\"'], ['\"3', '0', 'Crystal Palace', 'Newcastle\"'], ['\"0', '4', 'Fulham', 'Watford\"'], ['\"3', '4', 'Leicester', 'Huddersfield\"'], ['\"3', '4', 'Liverpool', 'Southampton\"'], ['\"3', '3', 'Man United', 'Wolves\"'], ['\"4', '0', 'Arsenal', 'Everton\"'], ['\"4', '0', 'West Ham', 'Chelsea\"'], ['\"4', '1', 'Arsenal', 'Watford\"'], ['\"0', '3', 'Chelsea', 'Liverpool\"'], ['\"0', '2', 'Everton', 'Fulham\"'], ['\"3', '2', 'Huddersfield', 'Tottenham\"'], ['\"4', '1', 'Man City', 'Brighton\"'], ['\"2', '1', 'Newcastle', 'Leicester\"'], ['\"0', '0', 'West Ham', 'Man United\"'], ['\"1', '3', 'Wolves', 'Southampton\"'], ['\"2', '2', 'Cardiff', 'Burnley\"'], ['\"2', '4', 'Bournemouth', 'Crystal Palace\"'], ['\"2', '2', 'Brighton', 'West Ham\"'], ['\"1', '4', 'Burnley', 'Huddersfield\"'], ['\"4', '0', 'Crystal Palace', 'Wolves\"'], ['\"4', '0', 'Leicester', 'Everton\"'], ['\"0', '2', 'Man United', 'Newcastle\"'], ['\"4', '2', 'Tottenham', 'Cardiff\"'], ['\"4', '1', 'Watford', 'Bournemouth\"'], ['\"3', '1', 'Fulham', 'Arsenal\"'], ['\"4', '0', 'Liverpool', 'Man City\"'], ['\"0', '1', 'Southampton', 'Chelsea\"'], ['\"1', '3', 'Bournemouth', 'Southampton\"'], ['\"1', '0', 'Cardiff', 'Fulham\"'], ['\"0', '4', 'Chelsea', 'Man United\"'], ['\"3', '2', 'Huddersfield', 'Liverpool\"'], ['\"4', '0', 'Man City', 'Burnley\"'], ['\"2', '4', 'Newcastle', 'Brighton\"'], ['\"1', '2', 'West Ham', 'Tottenham\"'], ['\"1', '1', 'Wolves', 'Watford\"'], ['\"3', '4', 'Everton', 'Crystal Palace\"'], ['\"1', '1', 'Arsenal', 'Leicester\"'], ['\"1', '2', 'Brighton', 'Wolves\"'], ['\"0', '1', 'Fulham', 'Bournemouth\"'], ['\"0', '1', 'Leicester', 'West Ham\"'], ['\"1', '3', 'Liverpool', 'Cardiff\"'], ['\"0', '0', 'Southampton', 'Newcastle\"'], ['\"3', '3', 'Watford', 'Huddersfield\"'], ['\"1', '0', 'Burnley', 'Chelsea\"'], ['\"0', '3', 'Crystal Palace', 'Arsenal\"'], ['\"1', '4', 'Man United', 'Everton\"']]\n",
            "<class 'pyspark.rdd.PipelinedRDD'>\n"
          ]
        }
      ]
    },
    {
      "cell_type": "code",
      "metadata": {
        "colab": {
          "base_uri": "https://localhost:8080/"
        },
        "id": "KCR9AD80zp8I",
        "outputId": "9d821daa-356f-4ef8-da1b-bf45d59a682f"
      },
      "source": [
        "#Estimate the Column count\n",
        "len(PLRawRDD.take(1)[0])"
      ],
      "execution_count": 201,
      "outputs": [
        {
          "output_type": "execute_result",
          "data": {
            "text/plain": [
              "41"
            ]
          },
          "metadata": {},
          "execution_count": 201
        }
      ]
    },
    {
      "cell_type": "code",
      "metadata": {
        "colab": {
          "base_uri": "https://localhost:8080/"
        },
        "id": "DdY6QXs21V8L",
        "outputId": "e9ddc8c6-ca0f-48ef-e662-5bce6eb88901"
      },
      "source": [
        "#take our file and chose the files we want\n",
        "from pyspark.sql import Row\n",
        "\n",
        "parsed_rdd = MyRDDcsv.map(lambda r: Row(\n",
        "    ScoreHome=r[0], \n",
        "     ScoreAway=r[1], \n",
        "     HomeTeam=r[2], \n",
        "     AwayTeam=r[3], \n",
        "    )\n",
        ")\n",
        "parsed_rdd.take(5)"
      ],
      "execution_count": 221,
      "outputs": [
        {
          "output_type": "execute_result",
          "data": {
            "text/plain": [
              "[Row(ScoreHome='\"Score Home', ScoreAway='Score Away', HomeTeam='HomeTeam', AwayTeam='AwayTeam\"'),\n",
              " Row(ScoreHome='\"4', ScoreAway='0', HomeTeam='Man United', AwayTeam='Leicester\"'),\n",
              " Row(ScoreHome='\"0', ScoreAway='2', HomeTeam='Bournemouth', AwayTeam='Cardiff\"'),\n",
              " Row(ScoreHome='\"4', ScoreAway='0', HomeTeam='Fulham', AwayTeam='Crystal Palace\"'),\n",
              " Row(ScoreHome='\"2', ScoreAway='3', HomeTeam='Huddersfield', AwayTeam='Chelsea\"')]"
            ]
          },
          "metadata": {},
          "execution_count": 221
        }
      ]
    },
    {
      "cell_type": "code",
      "metadata": {
        "colab": {
          "base_uri": "https://localhost:8080/"
        },
        "id": "9ALtWOR03p59",
        "outputId": "e0696a0f-22e6-4ec4-cbe1-5306027572e1"
      },
      "source": [
        "dfWithSchema = spark.createDataFrame(parsed_rdd).toDF(\"ScoreHome\", \"ScoreAway\",\"HomeTeam\", \"AwayTeam\"  )\n",
        "dfWithSchema.show()\n",
        "\n",
        "#df3 = sqlContext.to(parsed_rdd)\n",
        "#display(df3.head(10))"
      ],
      "execution_count": 306,
      "outputs": [
        {
          "output_type": "stream",
          "name": "stdout",
          "text": [
            "+-----------+----------+------------+---------------+\n",
            "|  ScoreHome| ScoreAway|    HomeTeam|       AwayTeam|\n",
            "+-----------+----------+------------+---------------+\n",
            "|\"Score Home|Score Away|    HomeTeam|      AwayTeam\"|\n",
            "|         \"4|         0|  Man United|     Leicester\"|\n",
            "|         \"0|         2| Bournemouth|       Cardiff\"|\n",
            "|         \"4|         0|      Fulham|Crystal Palace\"|\n",
            "|         \"2|         3|Huddersfield|       Chelsea\"|\n",
            "|         \"1|         2|   Newcastle|     Tottenham\"|\n",
            "|         \"1|         2|     Watford|      Brighton\"|\n",
            "|         \"4|         4|      Wolves|       Everton\"|\n",
            "|         \"0|         3|     Arsenal|      Man City\"|\n",
            "|         \"2|         2|   Liverpool|      West Ham\"|\n",
            "|         \"1|         2| Southampton|       Burnley\"|\n",
            "|         \"1|         3|     Cardiff|     Newcastle\"|\n",
            "|         \"3|         0|     Chelsea|       Arsenal\"|\n",
            "|         \"2|         4|     Everton|   Southampton\"|\n",
            "|         \"4|         0|   Leicester|        Wolves\"|\n",
            "|         \"4|         3|   Tottenham|        Fulham\"|\n",
            "|         \"1|         1|    West Ham|   Bournemouth\"|\n",
            "|         \"3|         1|    Brighton|    Man United\"|\n",
            "|         \"0|         1|     Burnley|       Watford\"|\n",
            "|         \"2|         3|    Man City|  Huddersfield\"|\n",
            "+-----------+----------+------------+---------------+\n",
            "only showing top 20 rows\n",
            "\n"
          ]
        }
      ]
    },
    {
      "cell_type": "code",
      "metadata": {
        "id": "62jUSu3W6VzG"
      },
      "source": [
        "#Insert this into a temporary table - only accessible in this instance\n",
        "dfWithSchema.createOrReplaceTempView(\"Football\")\n"
      ],
      "execution_count": 307,
      "outputs": []
    },
    {
      "cell_type": "code",
      "metadata": {
        "colab": {
          "base_uri": "https://localhost:8080/"
        },
        "id": "fpehAm5l6dpT",
        "outputId": "ef40ef29-0894-47ea-e0f1-9dc856cc8569"
      },
      "source": [
        "dataFrame=spark.sql(\"Select * from Football WHERE HomeTeam = 'Cardiff'\")\n",
        "dataFrame.show()"
      ],
      "execution_count": 305,
      "outputs": [
        {
          "output_type": "stream",
          "name": "stdout",
          "text": [
            "+---------+---------+--------+---------------+\n",
            "|ScoreHome|ScoreAway|HomeTeam|       AwayTeam|\n",
            "+---------+---------+--------+---------------+\n",
            "|       \"1|        3| Cardiff|     Newcastle\"|\n",
            "|       \"1|        3| Cardiff|       Arsenal\"|\n",
            "|       \"3|        2| Cardiff|      Man City\"|\n",
            "|       \"2|        2| Cardiff|       Burnley\"|\n",
            "|       \"1|        0| Cardiff|        Fulham\"|\n",
            "|       \"0|        0| Cardiff|     Leicester\"|\n",
            "|       \"4|        3| Cardiff|      Brighton\"|\n",
            "|       \"2|        0| Cardiff|        Wolves\"|\n",
            "|       \"4|        3| Cardiff|   Southampton\"|\n",
            "|       \"4|        1| Cardiff|    Man United\"|\n",
            "|       \"2|        1| Cardiff|     Tottenham\"|\n",
            "|       \"0|        1| Cardiff|  Huddersfield\"|\n",
            "|       \"0|        4| Cardiff|   Bournemouth\"|\n",
            "|       \"0|        4| Cardiff|       Watford\"|\n",
            "|       \"2|        1| Cardiff|       Everton\"|\n",
            "|       \"3|        1| Cardiff|      West Ham\"|\n",
            "|       \"2|        1| Cardiff|       Chelsea\"|\n",
            "|       \"2|        1| Cardiff|     Liverpool\"|\n",
            "|       \"0|        0| Cardiff|Crystal Palace\"|\n",
            "+---------+---------+--------+---------------+\n",
            "\n"
          ]
        }
      ]
    }
  ]
}